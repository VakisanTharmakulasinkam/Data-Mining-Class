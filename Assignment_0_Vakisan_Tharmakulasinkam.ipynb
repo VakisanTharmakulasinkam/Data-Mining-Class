{
  "nbformat": 4,
  "nbformat_minor": 0,
  "metadata": {
    "colab": {
      "name": "Assignment 0 - Vakisan Tharmakulasinkam.ipynb",
      "provenance": []
    },
    "kernelspec": {
      "name": "python3",
      "display_name": "Python 3"
    },
    "language_info": {
      "name": "python"
    }
  },
  "cells": [
    {
      "cell_type": "markdown",
      "metadata": {
        "id": "IK2PfYHCsYfR"
      },
      "source": [
        "#***Assignment 0 - Vakisan Tharmakulasinkam 14822399***\n",
        "\n",
        "---\n",
        "\n",
        "##**Fatal encounters with law enforcement officers** - *Why is the police involved in so many deaths?*\n",
        "\n",
        "\n",
        "\n",
        "\n",
        "\n"
      ]
    },
    {
      "cell_type": "markdown",
      "metadata": {
        "id": "zhw0gt8tsjUC"
      },
      "source": [
        "\n",
        "**1. Description of the dataset**\n",
        "\n",
        "- *1.1 Why this dataset?*\n",
        "\n",
        "\n",
        "> Police officers' killings of civilians under blurry circumstances has been a major topic of division among the society these last few years,  especially in the United States of America. Police brutality is nowadays a subject where it is impossible to remain neutral.\n",
        "\n",
        "> As a person of color myself, I felt pretty concerned about this subject, mostly during the Black lives matter protests, which had a worldwide impact in 2020.\n",
        "\n",
        "<p align=\"center\">\n",
        "<img src='https://cdn.pixabay.com/photo/2020/06/06/18/50/blm-5267765_1280.jpg' width='500'>\n",
        "</p>\n",
        "\n",
        "> This dataset censuses all fatal encounters involving law enforcement. It gives valuable informations as the age, gender, ethnicity and  the date of the murders. Among these, it also gives other precise details that could be useful to understand better why the fatality happened in the first place\n",
        "\n",
        "> This dataset is originally from the website [Fatal encounters.org](https://fatalencounters.org/). This webpage was created in 2012 because the author noticed the lack of information about law enforcement officers' killings when on-duty. Since then, this dataset has been published on Kaggle, [where it is downloadable here.](https://www.kaggle.com/kannan1314/innocent-deaths-caused-by-police-all-time?select=Innocent+Deaths+caused+by+Police+%28All+time%29.csv)\n",
        "\n",
        "\n",
        "\n",
        "\n"
      ]
    },
    {
      "cell_type": "code",
      "metadata": {
        "id": "nq-RuLnA-KUw"
      },
      "source": [
        "!mkdir -p data\n",
        "# Fetches the dataset and stores it under the folder data\n",
        "!curl 'https://raw.githubusercontent.com/VakisanTharmakulasinkam/Data-Mining-Class/main/Innocent%20Deaths%20caused%20by%20Police%20(All%20time).csv' -o data/my_dataset.csv"
      ],
      "execution_count": null,
      "outputs": []
    },
    {
      "cell_type": "code",
      "metadata": {
        "id": "z30QP7es-fxs"
      },
      "source": [
        "import pandas as pd\n",
        "data = pd.read_csv('https://raw.githubusercontent.com/VakisanTharmakulasinkam/Data-Mining-Class/main/Innocent%20Deaths%20caused%20by%20Police%20(All%20time).csv ')\n",
        "data.head(10)"
      ],
      "execution_count": null,
      "outputs": []
    },
    {
      "cell_type": "code",
      "metadata": {
        "id": "HnJmgOlc-0FJ"
      },
      "source": [
        "#Gives the number of rows and columns of the dataset\n",
        "data.shape"
      ],
      "execution_count": null,
      "outputs": []
    },
    {
      "cell_type": "code",
      "metadata": {
        "id": "VtAr0Zzq_H9L"
      },
      "source": [
        "#Gives the type of each column/object\n",
        "data.dtypes"
      ],
      "execution_count": null,
      "outputs": []
    },
    {
      "cell_type": "markdown",
      "metadata": {
        "id": "WDWa0VwcwAh5"
      },
      "source": [
        "\n",
        "- *1.2 Cardinality and dimensionality of the dataset*\n",
        "\n",
        "\n",
        "> This dataset contains 30860 rows and 27 columns. Among the 27 columns that describe the victims and the crimes, only \"Unique ID\" is an integer, \"Location of death (zip code)\" and \"Longitude\" are float, while the others columns are all objects. The others columns are all object listed in the following list:\n",
        "\n",
        "First 12 Objects of the dataset| Last 12 Objects of the dataset\n",
        "---|---\n",
        "- Name |- Agency or agencies involved\n",
        "- Age |- Highest level of force\n",
        "- Gender |- Alleged weapon\n",
        "- Race | - Aggressive physical movement\n",
        "- URL of image |- Fleeing/Not fleeing\n",
        "- Date of injury resulting in death (month/day/year) |- Description Temp\n",
        "- Location of injury (address) |- URL Temp\n",
        "- Location of death (city) |- Brief description\n",
        "- State |- Dispositions/Exclusions INTERNAL USE, NOT FOR ANALYSIS\n",
        "- Location of death (county) |- Intended use of force (Developing)\n",
        "- Full Address |- Supporting document link\n",
        "- Latitude |- Foreknowledge of mental illness\n",
        "    \n",
        "    \n",
        "---\n"
      ]
    },
    {
      "cell_type": "markdown",
      "metadata": {
        "id": "fp-gFaL5_Vfc"
      },
      "source": [
        "\n",
        "**2. What can we do with this dataset?**\n",
        "\n",
        "- *2.1 Potential data cleaning*\n",
        "\n",
        ">First of all, we will have to do some data cleaning in order to take away the useless rows and columns. Depending on the questions we want to answer, all the columns will not be relevant."
      ]
    },
    {
      "cell_type": "code",
      "metadata": {
        "id": "KxdQ0jzvU-sk"
      },
      "source": [
        "#Number of cells per columns without value\n",
        "data.isnull().sum()"
      ],
      "execution_count": null,
      "outputs": []
    },
    {
      "cell_type": "code",
      "metadata": {
        "id": "3JWS15VeVSw3"
      },
      "source": [
        "#Number of rows that are duplicated in the dataset\n",
        "duprow = data[data.duplicated()]\n",
        "print(duprow)"
      ],
      "execution_count": null,
      "outputs": []
    },
    {
      "cell_type": "markdown",
      "metadata": {
        "id": "Rh9cf868VhsP"
      },
      "source": [
        ">Therefore, we can see that the columns \"Descritpion Temp\", \"URL Temp\" are not really useful, and so are \"Alleged weapon\", \"Agressive physical movement\" and \"Fleeing/Not fleeing\". "
      ]
    },
    {
      "cell_type": "markdown",
      "metadata": {
        "id": "hGrAxq7GWFDD"
      },
      "source": [
        "- *2.2 Which questions could be asked*?\n",
        "\n",
        ">With this dataset, we have an opportunity to understand better the dynamics between the people under arrest and the policemen. Having the race of the victims, we can manage to find an interesting question around this topic. Through a *classification*, we can analyze if among the solved cases, **the ethnic minorities are overrepresented in the innocent victims.** \n",
        "\n",
        ">Additionnaly, we can examine with a* regression* and *clustering* if there is a **correlation between the profile of the victim and the state** where they died, in order to see if the victim profile is nationally the same or depends on the state.\n",
        "\n",
        ">On the same topic, it could be interesting to see a* regression* with the **number of victims related to the year of the incidents**, because that would show if political or legal measures have been taken in the past and if they seem to work.\n",
        "\n",
        "\n",
        ">**Research on *anomalies* after events/protests to see if these actions have a positive, neutral or negative impact.** Particularly since 2020, after the BLM protests wave, policemen often have to face the consequences of their action because people tend to record and report these incidents more. Does this new tendancy affects the number of victims?\n",
        "\n",
        ">**What is the deadliest weapon the law enforcement uses?** Gun should be the logical answer but with a dataset of this size, we can actually have a clear answer with a *classification*.\n",
        "\n",
        "---\n"
      ]
    },
    {
      "cell_type": "markdown",
      "metadata": {
        "id": "kw4BBT2YrgLe"
      },
      "source": [
        "\n",
        "**3. My Youtube video**\n",
        ">Do not hesitate to [check my youtube video](https://youtu.be/tvJ8XFobTYQ) if you want a quick summary of this notebook!"
      ]
    },
    {
      "cell_type": "code",
      "metadata": {
        "id": "6_lo_Xg1tIzC",
        "colab": {
          "base_uri": "https://localhost:8080/",
          "height": 364
        },
        "outputId": "bb495faf-21dd-4318-9983-2fa98895be87"
      },
      "source": [
        "%%HTML\n",
        "<div style=\"text-align: center\">\n",
        "<iframe width=\"560\" height=\"340\" src=\"https://www.youtube.com/embed/tvJ8XFobTYQ\"></iframe>\n",
        "</div>"
      ],
      "execution_count": 11,
      "outputs": [
        {
          "output_type": "display_data",
          "data": {
            "text/html": [
              "<div style=\"text-align: center\">\n",
              "<iframe width=\"560\" height=\"340\" src=\"https://www.youtube.com/embed/tvJ8XFobTYQ\"></iframe>\n",
              "</div>"
            ],
            "text/plain": [
              "<IPython.core.display.HTML object>"
            ]
          },
          "metadata": {}
        }
      ]
    }
  ]
}