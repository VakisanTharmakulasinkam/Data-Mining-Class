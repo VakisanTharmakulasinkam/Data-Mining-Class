{
  "nbformat": 4,
  "nbformat_minor": 0,
  "metadata": {
    "colab": {
      "name": "Assignment 0 - Vakisan Tharmakulasinkam.ipynb",
      "provenance": [],
      "authorship_tag": "ABX9TyPEsegm5/QTh569+2+UKocZ",
      "include_colab_link": true
    },
    "kernelspec": {
      "name": "python3",
      "display_name": "Python 3"
    },
    "language_info": {
      "name": "python"
    }
  },
  "cells": [
    {
      "cell_type": "markdown",
      "metadata": {
        "id": "view-in-github",
        "colab_type": "text"
      },
      "source": [
        "<a href=\"https://colab.research.google.com/github/VakisanTharmakulasinkam/Data-Mining-Class/blob/main/Assignment_0_Vakisan_Tharmakulasinkam.ipynb\" target=\"_parent\"><img src=\"https://colab.research.google.com/assets/colab-badge.svg\" alt=\"Open In Colab\"/></a>"
      ]
    },
    {
      "cell_type": "markdown",
      "metadata": {
        "id": "IK2PfYHCsYfR"
      },
      "source": [
        "#***Assignment 0 - Vakisan Tharmakulasinkam 14822399***\n",
        "\n",
        "---\n",
        "\n",
        "##**Fatal encounters with law enforcement officers** - *Why is the police involved in so many deaths?*\n",
        "\n",
        "\n",
        "\n",
        "\n",
        "\n"
      ]
    },
    {
      "cell_type": "markdown",
      "metadata": {
        "id": "zhw0gt8tsjUC"
      },
      "source": [
        ">\n",
        ">\n",
        "**1. Description of the dataset**\n",
        "\n",
        "- *1.1 Why this dataset?*\n",
        "\n",
        "\n",
        "> Police officers' killings of civilians under blurry circumstances has been a major topic of division among the society these last few years,  especially in the United States of America. Police brutality is nowadays a subject where it is impossible to remain neutral.\n",
        "\n",
        "> As a person of color myself, I felt pretty concerned about this subject, mostly during the Black lives matter protests, which had a worldwide impact in 2020.\n",
        "\n",
        "<p align=\"center\">\n",
        "<img src='https://cdn.pixabay.com/photo/2020/06/06/18/50/blm-5267765_1280.jpg' width='500'>\n",
        "</p>\n",
        "\n",
        "> This dataset censuses all fatal encounters involving law enforcement. It gives valuable informations as the age, gender, ethnicity and  the date of the murders. Among these, it also gives other precise details that could be useful to understand better why the fatality happened in the first place\n",
        "\n",
        "> This dataset is originally from the website [Fatal encounters.org](https://fatalencounters.org/). This webpage was created in 2012 because the author noticed the lack of information about law enforcement officers' killings when on-duty. Since then, this dataset has been published on Kaggle, [where it is downloadable here.](https://www.kaggle.com/kannan1314/innocent-deaths-caused-by-police-all-time?select=Innocent+Deaths+caused+by+Police+%28All+time%29.csv).\n",
        "\n",
        "\n",
        "\n",
        "\n"
      ]
    },
    {
      "cell_type": "code",
      "metadata": {
        "colab": {
          "base_uri": "https://localhost:8080/"
        },
        "id": "nq-RuLnA-KUw",
        "outputId": "ceb6b34f-227d-4f64-f545-3ed898315fd5"
      },
      "source": [
        "!mkdir -p data\n",
        "# Fetches the dataset and stores it under the folder data\n",
        "!curl 'https://raw.githubusercontent.com/VakisanTharmakulasinkam/Data-Mining-Class/main/Innocent%20Deaths%20caused%20by%20Police%20(All%20time).csv' -o data/my_dataset.csv"
      ],
      "execution_count": null,
      "outputs": [
        {
          "output_type": "stream",
          "name": "stdout",
          "text": [
            "  % Total    % Received % Xferd  Average Speed   Time    Time     Time  Current\n",
            "                                 Dload  Upload   Total   Spent    Left  Speed\n",
            "100 21.6M  100 21.6M    0     0  39.9M      0 --:--:-- --:--:-- --:--:-- 39.9M\n"
          ]
        }
      ]
    },
    {
      "cell_type": "code",
      "metadata": {
        "colab": {
          "base_uri": "https://localhost:8080/",
          "height": 1000
        },
        "id": "z30QP7es-fxs",
        "outputId": "4fbd3eb7-0c61-4232-8e10-5ba838f20c94"
      },
      "source": [
        "import pandas as pd\n",
        "data = pd.read_csv('https://raw.githubusercontent.com/VakisanTharmakulasinkam/Data-Mining-Class/main/Innocent%20Deaths%20caused%20by%20Police%20(All%20time).csv ')\n",
        "data.head(10)"
      ],
      "execution_count": null,
      "outputs": [
        {
          "output_type": "execute_result",
          "data": {
            "text/html": [
              "<div>\n",
              "<style scoped>\n",
              "    .dataframe tbody tr th:only-of-type {\n",
              "        vertical-align: middle;\n",
              "    }\n",
              "\n",
              "    .dataframe tbody tr th {\n",
              "        vertical-align: top;\n",
              "    }\n",
              "\n",
              "    .dataframe thead th {\n",
              "        text-align: right;\n",
              "    }\n",
              "</style>\n",
              "<table border=\"1\" class=\"dataframe\">\n",
              "  <thead>\n",
              "    <tr style=\"text-align: right;\">\n",
              "      <th></th>\n",
              "      <th>Unique ID</th>\n",
              "      <th>Name</th>\n",
              "      <th>Age</th>\n",
              "      <th>Gender</th>\n",
              "      <th>Race</th>\n",
              "      <th>URL of image</th>\n",
              "      <th>Date of injury resulting in death (month/day/year)</th>\n",
              "      <th>Location of injury (address)</th>\n",
              "      <th>Location of death (city)</th>\n",
              "      <th>State</th>\n",
              "      <th>Location of death (zip code)</th>\n",
              "      <th>Location of death (county)</th>\n",
              "      <th>Full Address</th>\n",
              "      <th>Latitude</th>\n",
              "      <th>Longitude</th>\n",
              "      <th>Agency or agencies involved</th>\n",
              "      <th>Highest level of force</th>\n",
              "      <th>Alleged weapon</th>\n",
              "      <th>Aggressive physical movement</th>\n",
              "      <th>Fleeing/Not fleeing</th>\n",
              "      <th>Description Temp</th>\n",
              "      <th>URL Temp</th>\n",
              "      <th>Brief description</th>\n",
              "      <th>Dispositions/Exclusions INTERNAL USE, NOT FOR ANALYSIS</th>\n",
              "      <th>Intended use of force (Developing)</th>\n",
              "      <th>Supporting document link</th>\n",
              "      <th>Foreknowledge of mental illness</th>\n",
              "    </tr>\n",
              "  </thead>\n",
              "  <tbody>\n",
              "    <tr>\n",
              "      <th>0</th>\n",
              "      <td>25747</td>\n",
              "      <td>Mark A. Horton</td>\n",
              "      <td>21</td>\n",
              "      <td>Male</td>\n",
              "      <td>African-American/Black</td>\n",
              "      <td>NaN</td>\n",
              "      <td>1/1/2000</td>\n",
              "      <td>Davison Freeway</td>\n",
              "      <td>Detroit</td>\n",
              "      <td>MI</td>\n",
              "      <td>48203.0</td>\n",
              "      <td>Wayne</td>\n",
              "      <td>Davison Freeway Detroit MI 48203 Wayne</td>\n",
              "      <td>42.4045258</td>\n",
              "      <td>-83.092274</td>\n",
              "      <td>NaN</td>\n",
              "      <td>Vehicle</td>\n",
              "      <td>NaN</td>\n",
              "      <td>NaN</td>\n",
              "      <td>NaN</td>\n",
              "      <td>NaN</td>\n",
              "      <td>NaN</td>\n",
              "      <td>Two Detroit men killed when their car crashed ...</td>\n",
              "      <td>Unreported</td>\n",
              "      <td>Pursuit</td>\n",
              "      <td>https://drive.google.com/file/d/1-nK-RohgiM-tZ...</td>\n",
              "      <td>No</td>\n",
              "    </tr>\n",
              "    <tr>\n",
              "      <th>1</th>\n",
              "      <td>25748</td>\n",
              "      <td>Phillip A. Blurbridge</td>\n",
              "      <td>19</td>\n",
              "      <td>Male</td>\n",
              "      <td>African-American/Black</td>\n",
              "      <td>NaN</td>\n",
              "      <td>1/1/2000</td>\n",
              "      <td>Davison Freeway</td>\n",
              "      <td>Detroit</td>\n",
              "      <td>MI</td>\n",
              "      <td>48203.0</td>\n",
              "      <td>Wayne</td>\n",
              "      <td>Davison Freeway Detroit MI 48203 Wayne</td>\n",
              "      <td>42.4045258</td>\n",
              "      <td>-83.092274</td>\n",
              "      <td>NaN</td>\n",
              "      <td>Vehicle</td>\n",
              "      <td>NaN</td>\n",
              "      <td>NaN</td>\n",
              "      <td>NaN</td>\n",
              "      <td>NaN</td>\n",
              "      <td>NaN</td>\n",
              "      <td>Two Detroit men killed when their car crashed ...</td>\n",
              "      <td>Unreported</td>\n",
              "      <td>Pursuit</td>\n",
              "      <td>https://drive.google.com/file/d/1-nK-RohgiM-tZ...</td>\n",
              "      <td>No</td>\n",
              "    </tr>\n",
              "    <tr>\n",
              "      <th>2</th>\n",
              "      <td>25746</td>\n",
              "      <td>Samuel H. Knapp</td>\n",
              "      <td>17</td>\n",
              "      <td>Male</td>\n",
              "      <td>European-American/White</td>\n",
              "      <td>NaN</td>\n",
              "      <td>1/1/2000</td>\n",
              "      <td>27898-27804 US-101</td>\n",
              "      <td>Willits</td>\n",
              "      <td>CA</td>\n",
              "      <td>95490.0</td>\n",
              "      <td>Mendocino</td>\n",
              "      <td>27898-27804 US-101 Willits CA 95490 Mendocino</td>\n",
              "      <td>39.4708829</td>\n",
              "      <td>-123.361751</td>\n",
              "      <td>Mendocino County Sheriff's Office</td>\n",
              "      <td>Vehicle</td>\n",
              "      <td>NaN</td>\n",
              "      <td>NaN</td>\n",
              "      <td>NaN</td>\n",
              "      <td>NaN</td>\n",
              "      <td>NaN</td>\n",
              "      <td>Samuel Knapp was allegedly driving a stolen ve...</td>\n",
              "      <td>Unreported</td>\n",
              "      <td>Pursuit</td>\n",
              "      <td>https://drive.google.com/file/d/10DisrV8K5ReP1...</td>\n",
              "      <td>No</td>\n",
              "    </tr>\n",
              "    <tr>\n",
              "      <th>3</th>\n",
              "      <td>25749</td>\n",
              "      <td>Mark Ortiz</td>\n",
              "      <td>23</td>\n",
              "      <td>Male</td>\n",
              "      <td>Hispanic/Latino</td>\n",
              "      <td>NaN</td>\n",
              "      <td>1/1/2000</td>\n",
              "      <td>600 W Cherry Ln</td>\n",
              "      <td>Carlsbad</td>\n",
              "      <td>NM</td>\n",
              "      <td>88220.0</td>\n",
              "      <td>Eddy</td>\n",
              "      <td>600 W Cherry Ln Carlsbad NM 88220 Eddy</td>\n",
              "      <td>32.4500798</td>\n",
              "      <td>-104.237643</td>\n",
              "      <td>Eddy County Sheriff's Office</td>\n",
              "      <td>Vehicle</td>\n",
              "      <td>NaN</td>\n",
              "      <td>NaN</td>\n",
              "      <td>NaN</td>\n",
              "      <td>NaN</td>\n",
              "      <td>NaN</td>\n",
              "      <td>A motorcycle was allegedly being driven errati...</td>\n",
              "      <td>Unreported</td>\n",
              "      <td>Pursuit</td>\n",
              "      <td>https://drive.google.com/file/d/1qAEefRjX_aTtC...</td>\n",
              "      <td>No</td>\n",
              "    </tr>\n",
              "    <tr>\n",
              "      <th>4</th>\n",
              "      <td>1</td>\n",
              "      <td>LaTanya Janelle McCoy</td>\n",
              "      <td>24</td>\n",
              "      <td>Female</td>\n",
              "      <td>African-American/Black</td>\n",
              "      <td>NaN</td>\n",
              "      <td>1/2/2000</td>\n",
              "      <td>5700 block Mack Road</td>\n",
              "      <td>Sacramento</td>\n",
              "      <td>CA</td>\n",
              "      <td>95823.0</td>\n",
              "      <td>Sacramento</td>\n",
              "      <td>5700 block Mack Road Sacramento CA 95823 Sacra...</td>\n",
              "      <td>38.4739487</td>\n",
              "      <td>-121.433776</td>\n",
              "      <td>Sacramento Police Department</td>\n",
              "      <td>Vehicle</td>\n",
              "      <td>NaN</td>\n",
              "      <td>NaN</td>\n",
              "      <td>NaN</td>\n",
              "      <td>NaN</td>\n",
              "      <td>NaN</td>\n",
              "      <td>LaTanya Janelle McCoy's car was struck from be...</td>\n",
              "      <td>Unknown</td>\n",
              "      <td>Pursuit</td>\n",
              "      <td>http://www.recordnet.com/article/20000110/A_NE...</td>\n",
              "      <td>No</td>\n",
              "    </tr>\n",
              "    <tr>\n",
              "      <th>5</th>\n",
              "      <td>2</td>\n",
              "      <td>Lester Miller</td>\n",
              "      <td>53</td>\n",
              "      <td>Male</td>\n",
              "      <td>Race unspecified</td>\n",
              "      <td>NaN</td>\n",
              "      <td>1/2/2000</td>\n",
              "      <td>4850 Flakes Mill Road</td>\n",
              "      <td>Ellenwood</td>\n",
              "      <td>GA</td>\n",
              "      <td>30294.0</td>\n",
              "      <td>DeKalb</td>\n",
              "      <td>4850 Flakes Mill Road Ellenwood GA 30294 DeKalb</td>\n",
              "      <td>33.645164</td>\n",
              "      <td>-84.229413</td>\n",
              "      <td>DeKalb County Sheriff's Office</td>\n",
              "      <td>Gunshot</td>\n",
              "      <td>NaN</td>\n",
              "      <td>NaN</td>\n",
              "      <td>NaN</td>\n",
              "      <td>NaN</td>\n",
              "      <td>NaN</td>\n",
              "      <td>Darren Mayfield, a DeKalb County sheriff's dep...</td>\n",
              "      <td>Criminal</td>\n",
              "      <td>Deadly force</td>\n",
              "      <td>https://docs.google.com/document/d/1-YuShSarW_...</td>\n",
              "      <td>No</td>\n",
              "    </tr>\n",
              "    <tr>\n",
              "      <th>6</th>\n",
              "      <td>25750</td>\n",
              "      <td>Billy Jones</td>\n",
              "      <td>30</td>\n",
              "      <td>Male</td>\n",
              "      <td>African-American/Black</td>\n",
              "      <td>NaN</td>\n",
              "      <td>1/2/2000</td>\n",
              "      <td>Pollock Street</td>\n",
              "      <td>Kinston</td>\n",
              "      <td>NC</td>\n",
              "      <td>28501.0</td>\n",
              "      <td>Lenoir</td>\n",
              "      <td>Pollock Street Kinston NC 28501 Lenoir</td>\n",
              "      <td>35.271507</td>\n",
              "      <td>-77.587332</td>\n",
              "      <td>Kinston Police Department</td>\n",
              "      <td>Vehicle</td>\n",
              "      <td>NaN</td>\n",
              "      <td>NaN</td>\n",
              "      <td>NaN</td>\n",
              "      <td>NaN</td>\n",
              "      <td>NaN</td>\n",
              "      <td>Officer Charles Rowe began pursuing Billie Jon...</td>\n",
              "      <td>Unreported</td>\n",
              "      <td>Pursuit</td>\n",
              "      <td>https://docs.google.com/document/d/1G106pI2URB...</td>\n",
              "      <td>No</td>\n",
              "    </tr>\n",
              "    <tr>\n",
              "      <th>7</th>\n",
              "      <td>25751</td>\n",
              "      <td>Terry Rouse</td>\n",
              "      <td>29</td>\n",
              "      <td>Male</td>\n",
              "      <td>African-American/Black</td>\n",
              "      <td>NaN</td>\n",
              "      <td>1/2/2000</td>\n",
              "      <td>Pollock Street</td>\n",
              "      <td>Kinston</td>\n",
              "      <td>NC</td>\n",
              "      <td>28501.0</td>\n",
              "      <td>Lenoir</td>\n",
              "      <td>Pollock Street Kinston NC 28501 Lenoir</td>\n",
              "      <td>35.271507</td>\n",
              "      <td>-77.587332</td>\n",
              "      <td>Kinston Police Department</td>\n",
              "      <td>Vehicle</td>\n",
              "      <td>NaN</td>\n",
              "      <td>NaN</td>\n",
              "      <td>NaN</td>\n",
              "      <td>NaN</td>\n",
              "      <td>NaN</td>\n",
              "      <td>Officer Charles Rowe began pursuing Billie Jon...</td>\n",
              "      <td>Unreported</td>\n",
              "      <td>Pursuit</td>\n",
              "      <td>https://docs.google.com/document/d/1G106pI2URB...</td>\n",
              "      <td>No</td>\n",
              "    </tr>\n",
              "    <tr>\n",
              "      <th>8</th>\n",
              "      <td>28711</td>\n",
              "      <td>Jimmy Todd Smith</td>\n",
              "      <td>25</td>\n",
              "      <td>Male</td>\n",
              "      <td>Race unspecified</td>\n",
              "      <td>NaN</td>\n",
              "      <td>1/2/2000</td>\n",
              "      <td>I-16 &amp; Chatham Parkway</td>\n",
              "      <td>Savannah</td>\n",
              "      <td>GA</td>\n",
              "      <td>31405.0</td>\n",
              "      <td>Chatham</td>\n",
              "      <td>I-16 &amp; Chatham Parkway Savannah GA 31405 Chatham</td>\n",
              "      <td>32.069274</td>\n",
              "      <td>-81.165027</td>\n",
              "      <td>Bloomingdale Police Department, Garden City Po...</td>\n",
              "      <td>Vehicle</td>\n",
              "      <td>NaN</td>\n",
              "      <td>NaN</td>\n",
              "      <td>NaN</td>\n",
              "      <td>NaN</td>\n",
              "      <td>NaN</td>\n",
              "      <td>Police said they clocked a 1990s model Mitsubi...</td>\n",
              "      <td>Unreported</td>\n",
              "      <td>Pursuit</td>\n",
              "      <td>https://drive.google.com/file/d/1uC1ZcY3JGvoIF...</td>\n",
              "      <td>Unknown</td>\n",
              "    </tr>\n",
              "    <tr>\n",
              "      <th>9</th>\n",
              "      <td>28712</td>\n",
              "      <td>Carl Gallishaw</td>\n",
              "      <td>35</td>\n",
              "      <td>Male</td>\n",
              "      <td>Race unspecified</td>\n",
              "      <td>NaN</td>\n",
              "      <td>1/2/2000</td>\n",
              "      <td>I-16 &amp; Chatham Parkway</td>\n",
              "      <td>Savannah</td>\n",
              "      <td>GA</td>\n",
              "      <td>31405.0</td>\n",
              "      <td>Chatham</td>\n",
              "      <td>I-16 &amp; Chatham Parkway Savannah GA 31405 Chatham</td>\n",
              "      <td>32.069274</td>\n",
              "      <td>-81.165027</td>\n",
              "      <td>Bloomingdale Police Department, Garden City Po...</td>\n",
              "      <td>Vehicle</td>\n",
              "      <td>NaN</td>\n",
              "      <td>NaN</td>\n",
              "      <td>NaN</td>\n",
              "      <td>NaN</td>\n",
              "      <td>NaN</td>\n",
              "      <td>Police said they clocked a 1990s model Mitsubi...</td>\n",
              "      <td>Unreported</td>\n",
              "      <td>Pursuit</td>\n",
              "      <td>https://drive.google.com/file/d/1uC1ZcY3JGvoIF...</td>\n",
              "      <td>No</td>\n",
              "    </tr>\n",
              "  </tbody>\n",
              "</table>\n",
              "</div>"
            ],
            "text/plain": [
              "   Unique ID  ... Foreknowledge of mental illness\n",
              "0      25747  ...                              No\n",
              "1      25748  ...                              No\n",
              "2      25746  ...                              No\n",
              "3      25749  ...                              No\n",
              "4          1  ...                              No\n",
              "5          2  ...                              No\n",
              "6      25750  ...                              No\n",
              "7      25751  ...                              No\n",
              "8      28711  ...                         Unknown\n",
              "9      28712  ...                              No\n",
              "\n",
              "[10 rows x 27 columns]"
            ]
          },
          "metadata": {},
          "execution_count": 6
        }
      ]
    },
    {
      "cell_type": "code",
      "metadata": {
        "colab": {
          "base_uri": "https://localhost:8080/"
        },
        "id": "HnJmgOlc-0FJ",
        "outputId": "790672df-e527-4bdc-a410-121bd12f2c92"
      },
      "source": [
        "#Gives the number of rows and columns of the dataset\n",
        "data.shape"
      ],
      "execution_count": null,
      "outputs": [
        {
          "output_type": "execute_result",
          "data": {
            "text/plain": [
              "(30860, 27)"
            ]
          },
          "metadata": {},
          "execution_count": 7
        }
      ]
    },
    {
      "cell_type": "code",
      "metadata": {
        "colab": {
          "base_uri": "https://localhost:8080/"
        },
        "id": "VtAr0Zzq_H9L",
        "outputId": "c7d237ff-ccdf-4d78-9adb-b16b7e036ef4"
      },
      "source": [
        "#Gives the type of each column/object\n",
        "data.dtypes"
      ],
      "execution_count": null,
      "outputs": [
        {
          "output_type": "execute_result",
          "data": {
            "text/plain": [
              "Unique ID                                                   int64\n",
              "Name                                                       object\n",
              "Age                                                        object\n",
              "Gender                                                     object\n",
              "Race                                                       object\n",
              "URL of image                                               object\n",
              " Date of injury resulting in death (month/day/year)        object\n",
              "Location of injury (address)                               object\n",
              "Location of death (city)                                   object\n",
              "State                                                      object\n",
              "Location of death (zip code)                              float64\n",
              "Location of death (county)                                 object\n",
              "Full Address                                               object\n",
              "Latitude                                                   object\n",
              "Longitude                                                 float64\n",
              "Agency or agencies involved                                object\n",
              "Highest level of force                                     object\n",
              "Alleged weapon                                             object\n",
              "Aggressive physical movement                               object\n",
              "Fleeing/Not fleeing                                        object\n",
              "Description Temp                                           object\n",
              "URL Temp                                                   object\n",
              "Brief description                                          object\n",
              "Dispositions/Exclusions INTERNAL USE, NOT FOR ANALYSIS     object\n",
              "Intended use of force (Developing)                         object\n",
              "Supporting document link                                   object\n",
              "Foreknowledge of mental illness                            object\n",
              "dtype: object"
            ]
          },
          "metadata": {},
          "execution_count": 8
        }
      ]
    },
    {
      "cell_type": "markdown",
      "metadata": {
        "id": "WDWa0VwcwAh5"
      },
      "source": [
        ">\n",
        "- *1.2 Cardinality and dimensionality of the dataset*\n",
        "\n",
        "\n",
        "> This dataset contains 30860 rows and 27 columns. Among the 27 columns that describe the victims and the crimes, only \"Unique ID\" is an integer, \"Location of death (zip code)\" and \"Longitude\" are float, while the others columns are all objects. The others columns are all object listed in the following list:\n",
        "\n",
        "First 12 Objects of the dataset| Last 12 Objects of the dataset\n",
        "---|---\n",
        "- Name |- Agency or agencies involved\n",
        "- Age |- Highest level of force\n",
        "- Gender |- Alleged weapon\n",
        "- Race | - Aggressive physical movement\n",
        "- URL of image |- Fleeing/Not fleeing\n",
        "- Date of injury resulting in death (month/day/year) |- Description Temp\n",
        "- Location of injury (address) |- URL Temp\n",
        "- Location of death (city) |- Brief description\n",
        "- State |- Dispositions/Exclusions INTERNAL USE, NOT FOR ANALYSIS\n",
        "- Location of death (county) |- Intended use of force (Developing)\n",
        "- Full Address |- Supporting document link\n",
        "- Latitude |- Foreknowledge of mental illness\n",
        "    \n",
        "    \n",
        "---\n"
      ]
    },
    {
      "cell_type": "markdown",
      "metadata": {
        "id": "fp-gFaL5_Vfc"
      },
      "source": [
        "\n",
        "**2. What can we do with this dataset?**\n",
        "\n",
        "- *2.1 Potential data cleaning*\n",
        "\n",
        ">First of all, we will have to do some data cleaning in order to take away the useless rows and columns. Depending on the questions we want to answer, all the columns will not be relevant."
      ]
    },
    {
      "cell_type": "code",
      "metadata": {
        "colab": {
          "base_uri": "https://localhost:8080/"
        },
        "id": "KxdQ0jzvU-sk",
        "outputId": "b5e8ff84-d284-46cc-fef4-4945d808db44"
      },
      "source": [
        "#Number of cells per columns without value\n",
        "data.isnull().sum()"
      ],
      "execution_count": null,
      "outputs": [
        {
          "output_type": "execute_result",
          "data": {
            "text/plain": [
              "Unique ID                                                     0\n",
              "Name                                                          0\n",
              "Age                                                        1172\n",
              "Gender                                                      136\n",
              "Race                                                          0\n",
              "URL of image                                              16505\n",
              " Date of injury resulting in death (month/day/year)           0\n",
              "Location of injury (address)                                554\n",
              "Location of death (city)                                     38\n",
              "State                                                         0\n",
              "Location of death (zip code)                                185\n",
              "Location of death (county)                                   15\n",
              "Full Address                                                  0\n",
              "Latitude                                                      0\n",
              "Longitude                                                     0\n",
              "Agency or agencies involved                                  77\n",
              "Highest level of force                                        3\n",
              "Alleged weapon                                            17000\n",
              "Aggressive physical movement                              16997\n",
              "Fleeing/Not fleeing                                       16997\n",
              "Description Temp                                          30018\n",
              "URL Temp                                                  30857\n",
              "Brief description                                             1\n",
              "Dispositions/Exclusions INTERNAL USE, NOT FOR ANALYSIS        1\n",
              "Intended use of force (Developing)                            2\n",
              "Supporting document link                                      1\n",
              "Foreknowledge of mental illness                              61\n",
              "dtype: int64"
            ]
          },
          "metadata": {},
          "execution_count": 9
        }
      ]
    },
    {
      "cell_type": "code",
      "metadata": {
        "colab": {
          "base_uri": "https://localhost:8080/"
        },
        "id": "3JWS15VeVSw3",
        "outputId": "d303401f-8042-428d-9d7a-30d685762658"
      },
      "source": [
        "#Number of rows that are duplicated in the dataset\n",
        "duprow = data[data.duplicated()]\n",
        "print(duprow)"
      ],
      "execution_count": null,
      "outputs": [
        {
          "output_type": "stream",
          "name": "stdout",
          "text": [
            "Empty DataFrame\n",
            "Columns: [Unique ID, Name, Age, Gender, Race, URL of image,  Date of injury resulting in death (month/day/year), Location of injury (address), Location of death (city), State, Location of death (zip code), Location of death (county), Full Address, Latitude, Longitude, Agency or agencies involved, Highest level of force, Alleged weapon, Aggressive physical movement, Fleeing/Not fleeing, Description Temp, URL Temp, Brief description, Dispositions/Exclusions INTERNAL USE, NOT FOR ANALYSIS, Intended use of force (Developing), Supporting document link, Foreknowledge of mental illness]\n",
            "Index: []\n"
          ]
        }
      ]
    },
    {
      "cell_type": "markdown",
      "metadata": {
        "id": "Rh9cf868VhsP"
      },
      "source": [
        ">Therefore, we can see that the columns \"Descritpion Temp\", \"URL Temp\" are not really useful, and so are \"Alleged weapon\", \"Agressive physical movement\" and \"Fleeing/Not fleeing\". "
      ]
    },
    {
      "cell_type": "markdown",
      "metadata": {
        "id": "hGrAxq7GWFDD"
      },
      "source": [
        "- *2.2 Which questions could be asked*?\n",
        "\n",
        ">With this dataset, we have an opportunity to understand better the dynamics between the people under arrest and the policemen. Having the race of the victims, we can manage to find an interesting question around this topic. Through a *classification*, we can analyze if among the solved cases, **the ethnic minorities are overrepresented in the innocent victims.** \n",
        "\n",
        ">Additionnaly, we can examine with a* regression* and *clustering* if there is a **correlation between the profile of the victim and the state** where they died, in order to see if the victim profile is nationally the same or depends on the state.\n",
        "\n",
        ">On the same topic, it could be interesting to see a* regression* with the **number of victims related to the year of the incidents**, because that would show if political or legal measures have been taken in the past and if they seem to work.\n",
        "\n",
        "\n",
        ">**Research on *anomalies* after events/protests to see if these actions have a positive, neutral or negative impact.** Particularly since 2020, after the BLM protests wave, policemen often have to face the consequences of their action because people tend to record and report these incidents more. Does this new tendancy affects the number of victims?\n",
        "\n",
        ">**What is the deadliest weapon the law enforcement uses?** Gun should be the logical answer but with a dataset of this size, we can actually have a clear answer with a *classification*.\n",
        "\n",
        "---\n"
      ]
    },
    {
      "cell_type": "markdown",
      "metadata": {
        "id": "kw4BBT2YrgLe"
      },
      "source": [
        ">\n",
        "**3. My Youtube video**\n",
        ">Do not hesitate to [check my youtube video](https://) if you want a quick summary of this notebook!"
      ]
    },
    {
      "cell_type": "code",
      "metadata": {
        "id": "6_lo_Xg1tIzC"
      },
      "source": [
        "%%HTML\n",
        "<div style=\"text-align: center\">\n",
        "<iframe width=\"560\" height=\"340\" src=\"\"></iframe>\n",
        "</div>"
      ],
      "execution_count": null,
      "outputs": []
    }
  ]
}